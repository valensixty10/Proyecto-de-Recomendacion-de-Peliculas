{
 "cells": [
  {
   "cell_type": "code",
   "execution_count": 53,
   "metadata": {},
   "outputs": [
    {
     "name": "stdout",
     "output_type": "stream",
     "text": [
      "<class 'pandas.core.frame.DataFrame'>\n",
      "RangeIndex: 25000 entries, 0 to 24999\n",
      "Data columns (total 22 columns):\n",
      " #   Column                 Non-Null Count  Dtype         \n",
      "---  ------                 --------------  -----         \n",
      " 0   belongs_to_collection  2655 non-null   object        \n",
      " 1   budget                 25000 non-null  int64         \n",
      " 2   genres                 25000 non-null  category      \n",
      " 3   id                     25000 non-null  object        \n",
      " 4   original_language      24998 non-null  object        \n",
      " 5   popularity             25000 non-null  object        \n",
      " 6   production_companies   25000 non-null  category      \n",
      " 7   production_countries   25000 non-null  category      \n",
      " 8   release_date           25000 non-null  datetime64[ns]\n",
      " 9   revenue                25000 non-null  float64       \n",
      " 10  runtime                24890 non-null  float64       \n",
      " 11  spoken_languages       25000 non-null  object        \n",
      " 12  status                 24946 non-null  object        \n",
      " 13  tagline                11464 non-null  object        \n",
      " 14  title                  25000 non-null  object        \n",
      " 15  vote_average           25000 non-null  float32       \n",
      " 16  vote_count             25000 non-null  int32         \n",
      " 17  release_year           25000 non-null  int32         \n",
      " 18  return                 25000 non-null  float64       \n",
      " 19  overview_clean         25000 non-null  object        \n",
      " 20  mes_estreno            25000 non-null  object        \n",
      " 21  dia_estreno            25000 non-null  object        \n",
      "dtypes: category(3), datetime64[ns](1), float32(1), float64(3), int32(2), int64(1), object(11)\n",
      "memory usage: 4.2+ MB\n"
     ]
    }
   ],
   "source": [
    "# Importar librerías necesarias\n",
    "import pandas as pd\n",
    "import numpy as np\n",
    "import joblib\n",
    "import os\n",
    "from sklearn.feature_extraction.text import TfidfVectorizer\n",
    "from sklearn.decomposition import TruncatedSVD\n",
    "from sklearn.metrics.pairwise import cosine_similarity\n",
    "import psutil\n",
    "\n",
    "# Cargar el dataset de películas\n",
    "movies_path = '../Data/processed_data/movies_dataset.parquet'\n",
    "movies = pd.read_parquet(movies_path)\n",
    "\n",
    "# Mostrar información básica del dataset\n",
    "movies.info()"
   ]
  },
  {
   "cell_type": "code",
   "execution_count": 54,
   "metadata": {},
   "outputs": [],
   "source": [
    "# Crear una columna 'predictor' combinando información de las películas para generar recomendaciones\n",
    "movies['predictor'] = (\n",
    "    movies['genres'].astype(str).fillna('') + ' ' +\n",
    "    movies['title'].fillna('') + ' ' +\n",
    "    movies['overview_clean'].fillna('')\n",
    ")"
   ]
  },
  {
   "cell_type": "code",
   "execution_count": 55,
   "metadata": {},
   "outputs": [],
   "source": [
    "# Vectorización TF-IDF\n",
    "vectorizer = TfidfVectorizer(min_df=4, max_df=0.85, ngram_range=(1, 2), max_features=40000, dtype=np.float32)\n",
    "matriz_tfidf = vectorizer.fit_transform(movies['predictor'])\n",
    "\n",
    "# Reducción de dimensionalidad con SVD\n",
    "svd = TruncatedSVD(n_components=300, random_state=42)\n",
    "matriz_reducida = svd.fit_transform(matriz_tfidf)"
   ]
  },
  {
   "cell_type": "code",
   "execution_count": 56,
   "metadata": {},
   "outputs": [
    {
     "name": "stdout",
     "output_type": "stream",
     "text": [
      "Uso de memoria: 636.90625 MB\n",
      "El vectorizador está utilizando 31986 características.\n",
      "Dimensiones reducidas a 300 componentes.\n"
     ]
    }
   ],
   "source": [
    "# Función para obtener el uso de memoria\n",
    "def get_memory_usage():\n",
    "    process = psutil.Process(os.getpid())\n",
    "    mem_info = process.memory_info()\n",
    "    return mem_info.rss / (1024 * 1024)  # Convertir de bytes a MB\n",
    "\n",
    "# Mostrar estadísticas de memoria y características\n",
    "num_features = len(vectorizer.vocabulary_)\n",
    "print(f\"Uso de memoria: {get_memory_usage()} MB\")\n",
    "print(f\"El vectorizador está utilizando {num_features} características.\")\n",
    "print(f\"Dimensiones reducidas a {matriz_reducida.shape[1]} componentes.\")"
   ]
  },
  {
   "cell_type": "code",
   "execution_count": 57,
   "metadata": {},
   "outputs": [
    {
     "name": "stdout",
     "output_type": "stream",
     "text": [
      "{'Recomendaciones': ['The Dark Knight Rises', 'Batman Begins', 'Batman Forever', 'Batman: The Dark Knight Returns, Part 1', 'Get the Gringo']}\n"
     ]
    }
   ],
   "source": [
    "# Función de recomendación\n",
    "def recomendacion(title):\n",
    "    # Encuentra el índice de la película\n",
    "    title = title.lower()\n",
    "    idx = movies.index[movies['title'].str.lower() == title].tolist()\n",
    "    if not idx:\n",
    "        return \"Película no encontrada\"\n",
    "    idx = idx[0]\n",
    "    \n",
    "    # Calcular la matriz de similitud del coseno\n",
    "    sim_scores = cosine_similarity(matriz_reducida[idx].reshape(1, -1), matriz_reducida)\n",
    "    \n",
    "    # Obtén los puntajes de similitud para la película seleccionada\n",
    "    sim_scores = list(enumerate(sim_scores[0]))\n",
    "    \n",
    "    # Ordena las películas basadas en la similitud\n",
    "    sim_scores = sorted(sim_scores, key=lambda x: x[1], reverse=True)\n",
    "    \n",
    "    # Obtén los índices de las películas más similares\n",
    "    movie_indices = [i[0] for i in sim_scores[1:6]]\n",
    "    recomendaciones = movies['title'].iloc[movie_indices].tolist()\n",
    "    \n",
    "    return {\"Recomendaciones\": recomendaciones}\n",
    "\n",
    "# Probar la función de recomendación\n",
    "print(recomendacion('The Dark Knight'))"
   ]
  },
  {
   "cell_type": "code",
   "execution_count": 58,
   "metadata": {},
   "outputs": [
    {
     "name": "stdout",
     "output_type": "stream",
     "text": [
      "Uso de memoria: 637.32421875 MB\n"
     ]
    }
   ],
   "source": [
    "# Verificar el uso de memoria después de cargar y procesar los datos\n",
    "print(f\"Uso de memoria: {get_memory_usage()} MB\")"
   ]
  },
  {
   "cell_type": "code",
   "execution_count": 59,
   "metadata": {},
   "outputs": [],
   "source": [
    "# Directorio de salida para guardar el modelo entrenado\n",
    "directory = '../models/'\n",
    "if not os.path.exists(directory):\n",
    "    os.makedirs(directory)"
   ]
  },
  {
   "cell_type": "code",
   "execution_count": 60,
   "metadata": {},
   "outputs": [
    {
     "name": "stdout",
     "output_type": "stream",
     "text": [
      "Modelo guardado en: ../models/\n"
     ]
    }
   ],
   "source": [
    "# Guardar el modelo TF-IDF y la matriz reducida\n",
    "joblib.dump(vectorizer, os.path.join(directory, 'vectorizer.pkl'))\n",
    "joblib.dump(matriz_reducida, os.path.join(directory, 'matriz_reducida.pkl'))\n",
    "print(\"Modelo guardado en:\", directory)"
   ]
  },
  {
   "cell_type": "code",
   "execution_count": 61,
   "metadata": {},
   "outputs": [
    {
     "name": "stdout",
     "output_type": "stream",
     "text": [
      "Tamaño del vectorizer: 1.08 MB\n",
      "Tamaño de la matriz reducida: 28.61 MB\n"
     ]
    }
   ],
   "source": [
    "# Cálculo del tamaño de los archivos guardados\n",
    "vectorizer_path = os.path.join(directory, 'vectorizer.pkl')\n",
    "matriz_reducida_path = os.path.join(directory, 'matriz_reducida.pkl')\n",
    "\n",
    "# Función para obtener el tamaño de un archivo\n",
    "def get_file_size(file_path):\n",
    "    try:\n",
    "        size = os.path.getsize(file_path)  # Obtener el tamaño en bytes\n",
    "        return size / (1024 * 1024)  # Convertir a MB\n",
    "    except FileNotFoundError:\n",
    "        return \"El archivo no existe.\"\n",
    "\n",
    "# Obtener y mostrar el tamaño de los archivos\n",
    "vectorizer_size = get_file_size(vectorizer_path)\n",
    "matriz_reducida_size = get_file_size(matriz_reducida_path)\n",
    "\n",
    "print(f\"Tamaño del vectorizer: {vectorizer_size:.2f} MB\")\n",
    "print(f\"Tamaño de la matriz reducida: {matriz_reducida_size:.2f} MB\")"
   ]
  }
 ],
 "metadata": {
  "kernelspec": {
   "display_name": "entorno_PI01",
   "language": "python",
   "name": "python3"
  },
  "language_info": {
   "codemirror_mode": {
    "name": "ipython",
    "version": 3
   },
   "file_extension": ".py",
   "mimetype": "text/x-python",
   "name": "python",
   "nbconvert_exporter": "python",
   "pygments_lexer": "ipython3",
   "version": "3.10.11"
  }
 },
 "nbformat": 4,
 "nbformat_minor": 2
}
