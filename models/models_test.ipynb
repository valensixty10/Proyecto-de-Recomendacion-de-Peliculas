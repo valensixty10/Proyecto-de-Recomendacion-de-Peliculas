{
 "cells": [
  {
   "cell_type": "code",
   "execution_count": 5,
   "metadata": {},
   "outputs": [
    {
     "name": "stdout",
     "output_type": "stream",
     "text": [
      "{'recomendaciones': ['Toy Story 2', 'Toy Reanimator', 'Toy Story of Terror!', 'Silent Night, Deadly Night 5: The Toy Maker', 'Toy Story 3']}\n"
     ]
    }
   ],
   "source": [
    "from sklearn.feature_extraction.text import TfidfVectorizer\n",
    "from sklearn.metrics.pairwise import cosine_similarity\n",
    "import pandas as pd\n",
    "\n",
    "# Cargar los datos (ajusta la ruta según sea necesario)\n",
    "movies = pd.read_parquet('../Data/processed/movies_dataset.parquet')\n",
    "\n",
    "\n",
    "# Paso 1: Preprocesamiento\n",
    "# Crear una columna combinada de características\n",
    "movies['genres'] = movies['genres'].astype(str)  # Asegurarse de que 'genres' es string\n",
    "movies['title'] = movies['title'].astype(str)  # Asegurarse de que 'title' es string\n",
    "movies['overview_clean'] = movies['overview_clean'].astype(str)  # Asegurarse de que 'overview_clean' es string\n",
    "\n",
    "movies['combined_features'] = (\n",
    "    movies['genres'].fillna('') + ' ' +\n",
    "    movies['title'].fillna('') + ' ' +\n",
    "    movies['overview_clean'].fillna('')\n",
    ")\n",
    "\n",
    "# Paso 2: Crear el modelo de similitud de contenido\n",
    "tfidf = TfidfVectorizer(stop_words='english', max_features=5000)\n",
    "tfidf_matrix = tfidf.fit_transform(movies['combined_features'])\n",
    "cosine_sim = cosine_similarity(tfidf_matrix, dense_output=False)\n",
    "\n",
    "# Paso 3: Función para obtener recomendaciones\n",
    "def obtener_recomendaciones(titulo, cosine_sim=cosine_sim, movies=movies):\n",
    "    # Verificar si la película existe en el DataFrame\n",
    "    idx = movies[movies['title'].str.lower() == titulo.lower()].index\n",
    "    if idx.empty:\n",
    "        return {\"error\": \"Película no encontrada\"}\n",
    "    \n",
    "    idx = idx[0]  # Obtén el índice de la película\n",
    "    sim_scores = list(enumerate(cosine_sim[idx].toarray().flatten()))  # Similaridades con todas las películas\n",
    "    sim_scores = sorted(sim_scores, key=lambda x: x[1], reverse=True)  # Ordenar por mayor similitud\n",
    "    sim_scores = sim_scores[1:6]  # Seleccionar las 5 películas más similares\n",
    "    \n",
    "    movie_indices = [i[0] for i in sim_scores]\n",
    "    recomendaciones = movies['title'].iloc[movie_indices].tolist()\n",
    "    return {\"recomendaciones\": recomendaciones}\n",
    "\n",
    "# Ejemplo de uso\n",
    "print(obtener_recomendaciones(\"Toy Story\"))\n"
   ]
  }
 ],
 "metadata": {
  "kernelspec": {
   "display_name": "entorno_PI01",
   "language": "python",
   "name": "python3"
  },
  "language_info": {
   "codemirror_mode": {
    "name": "ipython",
    "version": 3
   },
   "file_extension": ".py",
   "mimetype": "text/x-python",
   "name": "python",
   "nbconvert_exporter": "python",
   "pygments_lexer": "ipython3",
   "version": "3.10.11"
  }
 },
 "nbformat": 4,
 "nbformat_minor": 2
}
